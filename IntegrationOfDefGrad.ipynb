{
 "cells": [
  {
   "cell_type": "markdown",
   "id": "lucky-society",
   "metadata": {},
   "source": [
    "# Integration algorithm used to integrate $\\mathbf{F}$ in the Crystal Plasticity Model"
   ]
  },
  {
   "cell_type": "markdown",
   "id": "dirty-potter",
   "metadata": {},
   "source": [
    "### Import necessary modules and libraries"
   ]
  },
  {
   "cell_type": "code",
   "execution_count": 59,
   "id": "southwest-remains",
   "metadata": {},
   "outputs": [],
   "source": [
    "import numpy as np\n",
    "%run fourthOrderTensor.py  #this file contains the functions to create and operate on 4th order elastic tensor.\n",
    "%run createSchmid.py  # this file contains the create schimd function. Don't change this file"
   ]
  },
  {
   "cell_type": "markdown",
   "id": "worldwide-reservation",
   "metadata": {},
   "source": [
    "### State class\n",
    "\n",
    "First lets define a class that contains the material state information"
   ]
  },
  {
   "cell_type": "code",
   "execution_count": 17,
   "id": "advised-divide",
   "metadata": {},
   "outputs": [],
   "source": [
    "class state:\n",
    "    def __init__(self,sigma, defGrad, defGrad_elastic, defGrad_plastic, hardness, pressure):\n",
    "        self.sigma = sigma\n",
    "        self.defGrad = defGrad\n",
    "        self.defGrad_elastic = defGrad_elastic\n",
    "        self.defGrad_plastic = defGrad_plastic\n",
    "        self.hardness = hardness\n",
    "        self.pressure = pressure"
   ]
  },
  {
   "cell_type": "markdown",
   "id": "stuck-marina",
   "metadata": {},
   "source": [
    "## Functions to be used in the calculations"
   ]
  },
  {
   "cell_type": "markdown",
   "id": "monthly-least",
   "metadata": {},
   "source": [
    "### Function to perform elastic stress calculations\n",
    "- Right Cauchy green tensor,\n",
    "$\\mathbf{C}^{e}_{n+1}$ = $\\mathbf{F}^{e^{T}}_{n+1}$*.$\\mathbf{F}^e_{n+1}$\n",
    "-  Green strain tensor,\n",
    "$\\mathbf{E}^e = \\frac{1}{2}\\left(\\mathbf{C}^e - \\mathbf{I} \\right)$\n",
    "- Second Piola Kirchhoff stress,\n",
    "$\\mathbf{S} = \\mathcal{L} : \\mathbf{E}^e$\n",
    "- Resolved shear stress on slip systems,\n",
    "\n",
    "    **for** (i=0; i<num_slipSystems; i++)\n",
    "    \n",
    "    $\\tau_i = (\\mathbf{C}^e\\mathbf{S})\\mathbf{P}_i$\n",
    "    \n",
    "    **end for;**"
   ]
  },
  {
   "cell_type": "code",
   "execution_count": 18,
   "id": "downtown-engineering",
   "metadata": {},
   "outputs": [],
   "source": [
    "def elasticCalculations(num_slip_sys, schmid, elastTensor, elasticDefGrad):\n",
    "    C_e = np.zeros((3,3))\n",
    "    E_e = np.zeros((3,3))\n",
    "    S = np.zeros((3,3))\n",
    "    tau = np.zeros(num_slip_sys)\n",
    "    \n",
    "    C_e = np.matmul(np.transpose(elasticDefGrad),elasticDefGrad)\n",
    "    E_e = 0.5*(C_e - np.identity(3))\n",
    "    S = np.tensordot(elastTensor, E_e) \n",
    "    for i in range(0, num_slip_sys):\n",
    "        tau[i] = np.tensordot(C_e*S, schmid[i])\n",
    "    return (C_e, E_e, S, tau)"
   ]
  },
  {
   "cell_type": "markdown",
   "id": "intensive-anderson",
   "metadata": {},
   "source": [
    "### Function to calculate Residual"
   ]
  },
  {
   "cell_type": "code",
   "execution_count": 19,
   "id": "ancient-durham",
   "metadata": {},
   "outputs": [],
   "source": [
    "def compute_residual(current_state, new_state, gamma_dot_0, num_slip_sys, tau, m_param, schmid, dt):\n",
    "    gamma_dot = np.zeros(num_slip_sys)\n",
    "    residual = np.zeros((3,3))\n",
    "    M=current_state.defGrad_plastic*np.linalg.inv(new_state.defGrad_plastic)\n",
    "    for i in range(0, num_slip_sys):\n",
    "        # TODO: Check if gamma_dot is blowing up. If yes, implement safe_pow()\n",
    "        gamma_dot[i] = gamma_dot_0*(tau[i]/new_state.hardness[i])*(np.fabs(tau[i]/new_state.hardness[i])**((1.0/m_param)-1))\n",
    "        residual += gamma_dot[i]*schmid[i]\n",
    "    residual += (-1/dt)*(np.identity(3) - M)\n",
    "    norm_residual  = np.linalg.norm(residual)\n",
    "    return (norm_residual, residual)"
   ]
  },
  {
   "cell_type": "markdown",
   "id": "numeric-lease",
   "metadata": {},
   "source": [
    "### Function to compute Jacobian\n",
    "\n",
    "* $\\mathbf{A} = \\mathbf{F}_{n+1}^{p^{-T}}\\mathbf{F}_{n+1}^{T}\\mathbf{F}_{n+1}\\mathbf{F}_{n+1}^{p^{-1}}$\n",
    "* $\\mathbf{G} = \\frac{-1}{\\Delta t}\\mathbf{F}^p_n\\mathbf{F}^{p^{-1}}_{n+1}$\n",
    "* $\\dfrac{\\partial C^e_{{n+1}_{ab}}}{\\partial F^p_{n+1_{kn}}} = -A_{kb}F^{p^{-1}}_{n+1_{na}}-A_{ak}F^{p^{-1}}_{n+1_{nb}}$\n",
    "* $J_{2_{ijkm}} = G_{ik}F^{p^{-1}}_{n+1_{nj}}$\n",
    "* $J_1=0$\n",
    "$\\dfrac{\\partial S}{\\partial F^p_{n+1}} = \\frac{1}{2}\\mathcal{L}:\\dfrac{\\partial C^e_{n+1}}{\\partial F^p_{n+1}}$\n",
    "* __for__(i=0; i$<$ num\\_slip\\_system; i++)\n",
    "\n",
    "    - $\\mathbf{B} = P_i S^T_{n+1}$\n",
    "    - $\\mathbf{D} = \\mathbf{C}^{e^T}_{n+1}\\mathbf{P}_i$\n",
    "    - $\\dfrac{\\partial \\tau}{\\partial F^p_{n+1}} = B:\\dfrac{\\partial C^e_{n+1}}{\\partial F^p_{n+1}} + D:\\dfrac{\\partial S}{\\partial F^p_{n+1}}$\n",
    "    - $\\dfrac{\\partial g}{\\partial \\tau} = \\dfrac{\\partial \\dot{\\gamma}_0}{mg_{n+1_i}} \\left| \\dfrac{\\partial \\dot{tau}_{n+1_i}}{g_{n+1_i}} \\right|^{\\frac{1}{m}-1}$\n",
    "    - $J_1=J_1 + \\dfrac{\\partial g}{\\partial \\tau}\\left( \\mathbf{P}_i \\otimes \\dfrac{\\partial \\tau}{\\partial F^p_{n+1}}  \\right) $\n",
    "\n",
    "    __end for;__\n",
    "* $J=J_1+J_2$\n",
    "            "
   ]
  },
  {
   "cell_type": "code",
   "execution_count": 72,
   "id": "after-trail",
   "metadata": {
    "scrolled": true
   },
   "outputs": [],
   "source": [
    "def jacobian(current_state, new_state, dt, elastTensor, num_slip_sys, schmid, S, C_e, gamma_dot_0, m_param):\n",
    "    Fpn = current_state.defGrad_plastic \n",
    "    Fnp1 = new_state.defGrad \n",
    "    Fpnp1inv = np.linalg.inv(new_state.defGrad_plastic)\n",
    "    A = np.transpose(Fpnp1inv)*np.transpose(Fnp1)*Fnp1*Fpnp1inv\n",
    "    G = (-1.0/dt)*Fpn*Fpnp1inv\n",
    "    dC_dFpnp1 = np.zeros((3,3,3,3))\n",
    "    J2 = np.zeros((3,3,3,3))\n",
    "    for i in range(0,3):\n",
    "        for j in range (0,3):\n",
    "            for k in range (0,3):\n",
    "                for n in range(0,3):\n",
    "                    dC_dFpnp1[i,j,k,n] = -A[k,j]*Fpnp1inv[n,i] - A[i,k]*Fpnp1inv[n,j]\n",
    "                    J2[i,j,k,n] = G[i,k]*Fpnp1inv[n,j]\n",
    "\n",
    "    dS_dFpnp1 = np.tensordot(elastTensor, 0.5*dC_dFpnp1) \n",
    "    J1 = np.zeros((3,3,3,3))\n",
    "    for i in range(0, num_slip_sys):\n",
    "        B = schmid[i]*np.transpose(S)\n",
    "        D = np.transpose(C_e)*schmid[i]\n",
    "        dt_dFpnp1 = np.tensordot(B, dC_dFpnp1) + np.tensordot(D, dS_dFpnp1)\n",
    "        dg_dt = (gamma_dot_0/(m_param*new_state.hardness[i]))*(np.fabs(tau[i]/new_state.hardness[i])**((1.0/m_param)-1))\n",
    "        J1 += dg_dt*outerProduct(schmid[i], dt_dFpnp1)\n",
    "    J = AsTMatrix(J1)+AsTMatrix(J2)\n",
    "    return J"
   ]
  },
  {
   "cell_type": "markdown",
   "id": "julian-performance",
   "metadata": {},
   "source": [
    "### Function to update hardness"
   ]
  },
  {
   "cell_type": "code",
   "execution_count": 21,
   "id": "external-spirituality",
   "metadata": {},
   "outputs": [],
   "source": [
    "def updateHardness_vocekocks(current_state, new_state, dt, m_param, g_0, gamma_dot_0, G_0, g_s_0, gamma_dot_s, omega, num_slip_sys, schmid, elastTensor):\n",
    "    (C_e, E_e, S, tau) = elasticCalculations(num_slip_sys, schmid, elastTensor, new_state.defGrad_elastic)\n",
    "    \n",
    "    gamma_dot_total = 0.0\n",
    "    for i in range(0, num_slip_sys):\n",
    "        gamma_dot_total += gamma_dot_0 * ( np.fabs(tau[i]/new_state.hardness[i])**(1.0/m_param))\n",
    "    \n",
    "    g_s_np1 = new_state.hardness[0] \n",
    "    g_s_new = g_s_0*(np.fabs(gamma_dot_total/gamma_dot_s)**omega) \n",
    "    g_s_new = ((g_s_new-g_0)*current_state.hardness[0] + dt*G_0*g_s_new*gamma_dot_total)/((g_s_new-g_0) + dt*G_0*gamma_dot_total)\n",
    "    \n",
    "    for i in range (0,num_slip_sys):\n",
    "        new_state.hardness[i] = g_s_new\n",
    "    \n",
    "    return np.fabs((g_s_new-g_s_np1)/g_s_np1)\n",
    "        "
   ]
  },
  {
   "cell_type": "markdown",
   "id": "partial-analysis",
   "metadata": {},
   "source": [
    "## Calculations start from here:"
   ]
  },
  {
   "cell_type": "markdown",
   "id": "featured-newman",
   "metadata": {},
   "source": [
    "### Input the following:\n",
    "- Material properties ($C_{ij}$,$m$, $\\dot{\\gamma_0}$)\n",
    "- Orientation of the crystal, ($\\phi_1$, $\\Phi$, $\\phi_2$)\n",
    "- Deformation gradient at the end of the time step, $\\mathbf{F}$\n",
    "- Time step, $\\Delta t$\n",
    "- Change in pressure, $\\Delta p$\n",
    "- Equilibrium state, current_state\n",
    "- Trial state, new_state"
   ]
  },
  {
   "cell_type": "code",
   "execution_count": 22,
   "id": "acting-colors",
   "metadata": {},
   "outputs": [],
   "source": [
    "########################################\n",
    "# Material Properties\n",
    "C11 = 100000.0 \n",
    "C33 = 118000.0 \n",
    "C12 =  45000.0 \n",
    "C13 =  27000.0 \n",
    "C44 =  25000.0 \n",
    "C66 = 0.5*(C11 - C12)\n",
    "m_param = 0.005\n",
    "g_0 =  220.0\n",
    "gamma_dot_0 = 1.0\n",
    "G_0 = 120.0\n",
    "g_s_0 = 250.0\n",
    "gamma_dot_s = 5.0e+10\n",
    "omega = 0.0\n",
    "########################################\n",
    "elastTensor = ElastTensor(C11, C12, C13, C33, C44, C66)  # Get 4th order elastic tensor\n",
    "(num_slip_sys, schmid) = createSchimid(\"fcc\") #create schmid tensor"
   ]
  },
  {
   "cell_type": "code",
   "execution_count": 23,
   "id": "photographic-ground",
   "metadata": {},
   "outputs": [],
   "source": [
    "# Change to desired orientation\n",
    "phi1 = 0\n",
    "Phi = 0\n",
    "phi2 = 0\n",
    "\n",
    "# Rotation matrix R0 = R(phi1)*R(Phi)*R(phi2)\n",
    "R0 = np.array([[np.cos(phi1)*np.cos(phi2)-np.sin(phi1)*np.sin(phi2)*np.cos(Phi), np.sin(phi1)*np.cos(phi2)+np.cos(phi1)*np.sin(phi2)*np.cos(Phi), np.sin(phi2)*np.sin(Phi)],\n",
    "              [-np.cos(phi1)*np.sin(phi2)-np.sin(phi1)*np.cos(phi2)*np.cos(Phi), -np.sin(phi1)*np.sin(phi2)+np.cos(phi1)*np.cos(phi2)*np.cos(Phi), np.cos(phi2)*np.sin(Phi)],\n",
    "              [np.sin(phi1)*np.sin(Phi), -np.cos(phi1)*np.sin(Phi), np.cos(Phi)]])"
   ]
  },
  {
   "cell_type": "code",
   "execution_count": 24,
   "id": "related-kernel",
   "metadata": {},
   "outputs": [],
   "source": [
    "# change to a desired input def grad (in numpy array format)\n",
    "idefGrad = np.identity(3) "
   ]
  },
  {
   "cell_type": "code",
   "execution_count": 25,
   "id": "declared-empty",
   "metadata": {},
   "outputs": [],
   "source": [
    "# change to desired timestep pressure change\n",
    "dt = 0.1\n",
    "dp = 0"
   ]
  },
  {
   "cell_type": "code",
   "execution_count": 26,
   "id": "wanted-antarctica",
   "metadata": {},
   "outputs": [],
   "source": [
    "# change these to the desired current state\n",
    "sigma = np.zeros((3,3))\n",
    "defGrad = np.identity(3)\n",
    "defGrad_elastic = np.identity(3)\n",
    "defGrad_plastic = np.identity(3)\n",
    "hardness = np.ones(num_slip_sys)\n",
    "pressure = 0\n",
    "# Now, using these values construct the current_state object\n",
    "current_state = state(sigma, defGrad, defGrad_elastic, defGrad_plastic, hardness, pressure)"
   ]
  },
  {
   "cell_type": "code",
   "execution_count": 27,
   "id": "interior-allowance",
   "metadata": {},
   "outputs": [],
   "source": [
    "# initialize the trial state (no need to change this)\n",
    "\n",
    "sigma = np.zeros((3,3))\n",
    "defGrad = np.identity(3)\n",
    "defGrad_elastic = np.identity(3)\n",
    "defGrad_plastic = np.identity(3)\n",
    "hardness = np.ones(num_slip_sys)\n",
    "pressure = 0\n",
    "new_state = state(sigma, defGrad, defGrad_elastic, defGrad_plastic, hardness, pressure)"
   ]
  },
  {
   "cell_type": "markdown",
   "id": "precious-owner",
   "metadata": {},
   "source": [
    "###  Set max iterations and tolerances"
   ]
  },
  {
   "cell_type": "code",
   "execution_count": 76,
   "id": "positive-brighton",
   "metadata": {},
   "outputs": [],
   "source": [
    "max_hardness_iter = 10\n",
    "max_residual_iter = 100\n",
    "L2norm_tolerance = 1e-5\n",
    "hardness_change_tolerance = 1e-6"
   ]
  },
  {
   "cell_type": "markdown",
   "id": "civil-neutral",
   "metadata": {},
   "source": [
    "### Initialize"
   ]
  },
  {
   "cell_type": "code",
   "execution_count": 78,
   "id": "usual-ethiopia",
   "metadata": {},
   "outputs": [],
   "source": [
    "hardness_error = 0.0\n",
    "L2norm = 0.0\n",
    "L2norm_old = 0.0\n",
    "dFp = np.zeros(9)\n",
    "Fp_lastgood = np.identity(3)\n",
    "\n",
    "new_state.pressure = current_state.pressure + dp # Set new state's presssure\n",
    "new_state.defGrad = idefGrad*R0   # Apply rotation to input deformation gradient and set new state's def grad"
   ]
  },
  {
   "cell_type": "markdown",
   "id": "joined-commitment",
   "metadata": {},
   "source": [
    "### Start the calculation loops"
   ]
  },
  {
   "cell_type": "code",
   "execution_count": 79,
   "id": "thirty-opportunity",
   "metadata": {},
   "outputs": [
    {
     "name": "stdout",
     "output_type": "stream",
     "text": [
      "[[0. 0. 0.]\n",
      " [0. 0. 0.]\n",
      " [0. 0. 0.]]\n"
     ]
    }
   ],
   "source": [
    "# start hardness loop\n",
    "for hardness_iter in range(0,1):\n",
    "    \n",
    "#     hardness convergence check\n",
    "    if hardness_iter==max_hardness_iter:\n",
    "        print(\"Max hardness iteration reached!\")\n",
    "        break\n",
    "    # start residual loop\n",
    "    residual_not_converged = False\n",
    "    for residual_iter in range(0, 1):\n",
    "        \n",
    "        # residual convergence check\n",
    "        if residual_iter==max_residual_iter:\n",
    "            residual_not_converged = True\n",
    "            break\n",
    "        \n",
    "        # Make initial guess\n",
    "        if residual_iter == 0 and hardness_iter == 0:\n",
    "            new_state.defGrad_elastic = current_state.defGrad_elastic\n",
    "            new_state.defGrad_pastic = np.matmul(np.linalg.inv(new_state.defGrad_elastic), new_state.defGrad)\n",
    "            new_state.hardness = current_state.hardness\n",
    "        \n",
    "        # elastic stress calculations\n",
    "        (C_e, E_e, S, tau) = elasticCalculations(num_slip_sys, schmid, elastTensor, new_state.defGrad_elastic)\n",
    "            \n",
    "        # compute residual\n",
    "        (L2norm, residual) = compute_residual(current_state, new_state, gamma_dot_0, num_slip_sys, tau, m_param, schmid, dt)\n",
    "        \n",
    "        # convergence check\n",
    "        if L2norm < L2norm_tolerance:            \n",
    "            break\n",
    "        elif residual_iter > 0 and L2norm > L2norm_old:\n",
    "            new_state.defGrad_pastic = Fp_lastgood\n",
    "            new_state.defGrad_eastic = new_state.defGrad*np.linalg.inv(new_state.defGrad_pastic)    \n",
    "            dFp = 0.5*dFp\n",
    "        else:\n",
    "            # proceed to solve if residual is decreasing or if it is the first step\n",
    "            L2norm_old = L2norm\n",
    "            Fp_lastgood = new_state.defGrad_plastic        \n",
    "            \n",
    "            # Compute Jacobian\n",
    "            J = jacobian(current_state, new_state, dt, elastTensor, num_slip_sys, schmid, S, C_e, gamma_dot_0, m_param)       \n",
    "\n",
    "            residualVector = residual.flatten()\n",
    "\n",
    "            # Solve\n",
    "            dFp =  np.linalg.solve(J, -1.0*residualVector)  \n",
    "            # TODO: add try catch for the solution dFp\n",
    "        \n",
    "        \n",
    "        # Apply dFp\n",
    "        dFp_matrix = dFp.reshape(3,3)\n",
    "        new_state.defGrad_pastic += dFp_matrix\n",
    "        new_state.defGrad_eastic = new_state.defGrad*np.linalg.inv(new_state.defGrad_pastic)\n",
    "        \n",
    "        #TODO: check det of new jacobian\n",
    "    \n",
    "    if residual_not_converged:\n",
    "        print(\"Max residual iteration reached!\")\n",
    "        break\n",
    "        \n",
    "    #update hardness\n",
    "    hardness_error = updateHardness_vocekocks(current_state, new_state, dt, m_param, g_0, gamma_dot_0, G_0, g_s_0, gamma_dot_s, omega, num_slip_sys, schmid, elastTensor)\n",
    "    \n",
    "    # hardness convergence check\n",
    "    if hardness_error < hardness_change_tolerance:\n",
    "        break\n",
    "\n",
    "        \n",
    "#Scale Fp, det(Fp) = 1\n",
    "\n",
    "scale = np.linalg.det(new_state.defGrad_pastic)**(1.0/3.0)\n",
    "new_state.defGrad_pastic /= scale\n",
    "new_state.defGrad_eastic = new_state.defGrad*np.linalg.inv(new_state.defGrad_pastic)    \n",
    "\n",
    "# recompute elastic quantities\n",
    "(C_e, E_e, S, tau) = elasticCalculations(num_slip_sys, schmid, elastTensor, new_state.defGrad_elastic)\n",
    "\n",
    "cauchy = new_state.defGrad_elastic*S*np.transpose(new_state.defGrad_elastic)/np.linalg.det(new_state.defGrad_elastic)\n",
    "deviatoric = cauchy - (np.trace(cauchy)/3.0)*np.identity(3)\n",
    "\n",
    "stress = deviatoric + new_state.pressure*np.identity(3)\n",
    "print(stress)"
   ]
  }
 ],
 "metadata": {
  "kernelspec": {
   "display_name": "Python 3",
   "language": "python",
   "name": "python3"
  },
  "language_info": {
   "codemirror_mode": {
    "name": "ipython",
    "version": 3
   },
   "file_extension": ".py",
   "mimetype": "text/x-python",
   "name": "python",
   "nbconvert_exporter": "python",
   "pygments_lexer": "ipython3",
   "version": "3.9.2"
  }
 },
 "nbformat": 4,
 "nbformat_minor": 5
}
